{
  "nbformat": 4,
  "nbformat_minor": 0,
  "metadata": {
    "colab": {
      "provenance": [],
      "authorship_tag": "ABX9TyMCvHn66e9Qxg6ZVlipXZKC",
      "include_colab_link": true
    },
    "kernelspec": {
      "name": "python3",
      "display_name": "Python 3"
    },
    "language_info": {
      "name": "python"
    }
  },
  "cells": [
    {
      "cell_type": "markdown",
      "metadata": {
        "id": "view-in-github",
        "colab_type": "text"
      },
      "source": [
        "<a href=\"https://colab.research.google.com/github/gangakailas/numerical/blob/main/NewtonInterpolation.ipynb\" target=\"_parent\"><img src=\"https://colab.research.google.com/assets/colab-badge.svg\" alt=\"Open In Colab\"/></a>"
      ]
    },
    {
      "cell_type": "code",
      "execution_count": null,
      "metadata": {
        "id": "N8WzBAkjVn3y"
      },
      "outputs": [],
      "source": [
        "import math\n",
        "\n",
        "def ForwardInter(n, val):\n",
        "  h=abs(X[1]-X[0])\n",
        "  p=(val-X[0])/h\n",
        "  ans=Y[0]\n",
        "  for i in range(1,n):\n",
        "    term=1\n",
        "    for j in range(i):\n",
        "      term=term*(p-j)\n",
        "      ans= ans + (term*fY[i-1])/(math.factorial(i))\n",
        "  return ans\n",
        "\n",
        "\n",
        "\n",
        "\n",
        "n=int(input(\"Enter the number of elements: \"))\n",
        "X=[]\n",
        "Y=[]\n",
        "\n",
        "for i in range(n):\n",
        "  x=float(input(\"Enter the x value: \"))\n",
        "  y=float(input(\"Enter the corresponding y value: \"))\n",
        "  X.append(x)\n",
        "  Y.append(y)\n",
        "\n",
        "val=int(input(\"Enter x- value to be interpolated: \"))\n",
        "\n",
        "N=n-1\n",
        "Y1=Y\n",
        "fY=[]       #stores first value of delta y, delta2 y, etc..\n",
        "\n",
        "while(N>0):\n",
        "  ind=1\n",
        "  dY=[]       #for new dy arrays\n",
        "  for i in range(N):\n",
        "    dy=Y1[ind]-Y1[ind-1]\n",
        "    ind=ind+1\n",
        "    dY.append(dy)\n",
        "  fY.append(dY[0])\n",
        "  Y1=dY\n",
        "  N=N-1\n",
        "\n",
        "for i in range(n-1):\n",
        "  print(fY[i])\n",
        "\n",
        "result=ForwardInter(n, val)\n",
        "print(result)"
      ]
    }
  ]
}