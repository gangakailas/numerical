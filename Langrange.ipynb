{
  "nbformat": 4,
  "nbformat_minor": 0,
  "metadata": {
    "colab": {
      "provenance": [],
      "authorship_tag": "ABX9TyPdkLqtoOWd2K0rPeaOBcB6",
      "include_colab_link": true
    },
    "kernelspec": {
      "name": "python3",
      "display_name": "Python 3"
    },
    "language_info": {
      "name": "python"
    }
  },
  "cells": [
    {
      "cell_type": "markdown",
      "metadata": {
        "id": "view-in-github",
        "colab_type": "text"
      },
      "source": [
        "<a href=\"https://colab.research.google.com/github/gangakailas/numerical/blob/main/Langrange.ipynb\" target=\"_parent\"><img src=\"https://colab.research.google.com/assets/colab-badge.svg\" alt=\"Open In Colab\"/></a>"
      ]
    },
    {
      "cell_type": "code",
      "execution_count": null,
      "metadata": {
        "colab": {
          "base_uri": "https://localhost:8080/"
        },
        "id": "bJXKAl4GEMBh",
        "outputId": "8e1af5f6-fc04-43bd-83b7-186ad3c317fd"
      },
      "outputs": [
        {
          "output_type": "stream",
          "name": "stdout",
          "text": [
            "Enter the number of elements: 5\n",
            "Enter the x value: 0\n",
            "Enter the corresponding y value: 5\n",
            "Enter the x value: 2\n",
            "Enter the corresponding y value: 7\n",
            "Enter the x value: 3\n",
            "Enter the corresponding y value: 8\n",
            "Enter the x value: 5\n",
            "Enter the corresponding y value: 10\n",
            "Enter the x value: 6\n",
            "Enter the corresponding y value: 12\n",
            "Enter x- value to be interpolated: 4\n",
            "8.888888888888888\n"
          ]
        }
      ],
      "source": [
        "def Langrange():\n",
        "  n = len(X)\n",
        "  ans = 0\n",
        "  for i in range(n):\n",
        "    numer = Y[i]\n",
        "    denom = 1\n",
        "    for j in range(n):\n",
        "      if j != i:\n",
        "        numer *= (val - X[j])\n",
        "        denom *= (X[i] - X[j])\n",
        "    ans += numer / denom\n",
        "  return ans\n",
        "\n",
        "\n",
        "\n",
        "\n",
        "\n",
        "n=int(input(\"Enter the number of elements: \"))\n",
        "X=[]\n",
        "Y=[]\n",
        "\n",
        "for i in range(n):\n",
        "  x=float(input(\"Enter the x value: \"))\n",
        "  y=float(input(\"Enter the corresponding y value: \"))\n",
        "  X.append(x)\n",
        "  Y.append(y)\n",
        "\n",
        "val=int(input(\"Enter x- value to be interpolated: \"))\n",
        "res=Langrange()\n",
        "print(res)"
      ]
    },
    {
      "cell_type": "code",
      "source": [
        "numer=numer*(val - X[ind1[j]])\n",
        "      denom=denom*(X[i] - Y[ind1[j]])\n",
        "      ans=ans+(numer/denom)"
      ],
      "metadata": {
        "id": "oTzuaFdeIDr3"
      },
      "execution_count": null,
      "outputs": []
    }
  ]
}